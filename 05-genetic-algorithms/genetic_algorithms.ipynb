{
 "cells": [
  {
   "cell_type": "markdown",
   "metadata": {
    "colab_type": "text",
    "id": "IgbwqxkW4SvK"
   },
   "source": [
    "# Genetic Algorithms\n",
    "\n",
    "Genetic algorithms are a type of algorithm based on evolution theory to solve a range of problems. Most commonly, the problem being solved is an optimization (of a fitness function) problem. They are particularly useful in problems with really large solution spaces, where calculating all the possibilities is computationally infeasable. Additionally, they can be used in conjunction with other machine learning methods (such as neural networks) to produce good or optimal solutions.\n",
    "\n",
    "The approach of genetic algorithms is heavilly inspired by the random mutation of genes that eventually result in the formation of complex organisms. As such, they are non deterministic and require randomness throughout the process. Generally, algorithms will create random initial species, but a biased initialization may be made if suitable. After this initial population is evaluated with the fitness function, the best are selected and their children formed. Naturally. this is achieved by way of combining the best of the population and a certain randomness using some operations called **genetic operators**, which are:\n",
    "\n",
    "* **selection**: Good specimen are chosen to proliferate in later generations, however, a portion of non \"good\" specimen may be included to promote diversity and create new children that arent all derived from the best\n",
    "* **crossover**: Good specimen are combined to create children, there are many possible strategies, one such strategy may be selecting the genes which are sufficiently similar\n",
    "* **mutation**: Good specimen (either from the previous generation or as a result of crossing) are mutated randomly\n",
    "\n",
    "It's important to know that not all these operations have to be performed, (nontheless a selection will always be made) only mutations or corssovers may be performed if suitable, or a combination of both.\n",
    "\n",
    "A simple pseudocode for a genetic algorithm is:\n",
    "\n",
    "```\n",
    "while generations < max_generations or stopping condition is reached:\n",
    "  evaluate_all_specimen\n",
    "  select_best_specimen\n",
    "  specimen = generate_children (by crossover and/or mutation)\n",
    "```\n",
    "\n",
    "Two things are notabe regarding genetic algorithms:\n",
    "\n",
    "* Representation of the genes of a specimen may vary depending on the problem\n",
    "* The most important part is the evaluation function, as such, picking one is not an easy job and the goodness of the resulting solution will depend almost exclusively on this\n",
    "\n",
    "To exemplify a genetic algorithm, lets create a genetic algorithm that will try to guess a string based on an inital one (i.e. transform a string \"vg 48ht5. 45tcxeg wawef\" into \"Hello, world!\".\n",
    "\n",
    "The first thing we will need is a function to generate the initial population, in this case the initial population will be random strings the same length of \"Hello, world!\". We will be placing all functionallity of the algorithm inside a class with a somewhat generic implementation, so that it may be reused for other problems later.\n",
    "\n",
    "[1,0,1,1,0,1]"
   ]
  },
  {
   "cell_type": "code",
   "execution_count": 1,
   "metadata": {
    "colab": {
     "base_uri": "https://localhost:8080/",
     "height": 55
    },
    "colab_type": "code",
    "id": "rpIGKo56J1tM",
    "outputId": "83c673cb-d49f-4e33-bd0f-6a25a4114aa3"
   },
   "outputs": [
    {
     "name": "stdout",
     "output_type": "stream",
     "text": [
      "[['c', 'v', 'e', 'B', 'z', 'Q', 'E', '¡', 'o', 'm', 'M', 'I', 'ñ'], ['Q', 'e', 'I', 'H', '.', 'r', '!', 'l', 'M', 'y', 't', 'o', ','], ['A', 'P', 'm', 'c', '.', 'e', 'ñ', '!', 'h', 'O', 'W', 'i', 'z'], ['P', 'L', 'l', 'v', 'ñ', 'h', 'w', 'Ñ', 'a', 'g', 'H', 'F', 'O'], ['h', 't', 'Z', 'o', 'Ñ', 'g', 'F', 'H', 'Y', 'Q', 'S', 'z', '¡']]\n"
     ]
    }
   ],
   "source": [
    "import random\n",
    "\n",
    "class HelloGenetic:\n",
    "  def __init__(self, params):\n",
    "    self.ALL_CHARACTERS = list(\"qwertyuiopasdfghjklñzxcvbnmQWERTYUIOPASDFGHJKLÑZXCVBNM. ,!¡\")\n",
    "    self.HELLO_WORLD = list(\"Hello, world!\")\n",
    "    self.params = params\n",
    "    self.specimen = [None] * self.params[\"generation_size\"]\n",
    "\n",
    "    self.create_initial_population()\n",
    "\n",
    "  def create_initial_population(self):\n",
    "    self.specimen = list(\n",
    "      map(\n",
    "        lambda _: random.sample(self.ALL_CHARACTERS, len(self.HELLO_WORLD)),\n",
    "        self.specimen\n",
    "      )\n",
    "    )\n",
    "\n",
    "hello = HelloGenetic({\"generation_size\":5})\n",
    "print(hello.specimen)"
   ]
  },
  {
   "cell_type": "markdown",
   "metadata": {
    "colab_type": "text",
    "id": "EfoICZXJWEjd"
   },
   "source": [
    "Now that we have this, we can declare the general genetic algorithm in the **run** function. We will add some empty functions for now."
   ]
  },
  {
   "cell_type": "code",
   "execution_count": 0,
   "metadata": {
    "colab": {},
    "colab_type": "code",
    "id": "oiFUPstzWMxJ"
   },
   "outputs": [],
   "source": [
    "import random\n",
    "\n",
    "class HelloGenetic:\n",
    "  def __init__(self, params):\n",
    "    self.ALL_CHARACTERS = list(\"qwertyuiopasdfghjklñzxcvbnmQWERTYUIOPASDFGHJKLÑZXCVBNM. ,!¡\")\n",
    "    self.HELLO_WORLD = list(\"Hello, world!\")\n",
    "    self.params = params\n",
    "    self.specimen = [None] * self.params[\"generation_size\"]\n",
    "\n",
    "    self.create_initial_population()\n",
    "\n",
    "  def create_initial_population(self):\n",
    "    self.specimen = list(\n",
    "      map(\n",
    "        lambda _: random.sample(self.ALL_CHARACTERS, len(self.HELLO_WORLD)),\n",
    "        self.specimen\n",
    "      )\n",
    "    )\n",
    "\n",
    "  def is_converged(self):\n",
    "    pass\n",
    "    \n",
    "  def get_fit(self):\n",
    "    pass\n",
    "  \n",
    "  def fitness_all(self):\n",
    "    pass\n",
    "  \n",
    "  def select_specimen(self):\n",
    "    pass\n",
    "  \n",
    "  def generate_children(self):\n",
    "    pass\n",
    "  \n",
    "  def run(self):\n",
    "    generation_number = 1\n",
    "\n",
    "    while generation_number <= self.params[\"max_generations\"] and not self.is_converged():\n",
    "      top_generation = self.get_fit()\n",
    "      \n",
    "      print(f\"Generation #{generation_number}:\\t{top_generation[0]}\\t{top_generation[1]}\")\n",
    "\n",
    "      specimen_evaluations = self.fitness_all()\n",
    "      selected_specimen = self.select_specimen(specimen_evaluations)\n",
    "      \n",
    "      self.specimen = self.generate_children(selected_specimen)\n",
    "      \n",
    "      generation_number += 1\n",
    "    \n",
    "    return self.get_fit()"
   ]
  },
  {
   "cell_type": "markdown",
   "metadata": {
    "colab_type": "text",
    "id": "vs6kjLthbX9J"
   },
   "source": [
    "Now, we need to implement the **converged** function, which will in turn need to have the **fitness** functions implemented. The **converged** function will check if any of the specimen have reached an acceptable threshold for the fitness function. The **fitness** function will perform a naive string similarity measure based on the normalized number of matching characters in the target string (there are better string similarity measures)."
   ]
  },
  {
   "cell_type": "code",
   "execution_count": 0,
   "metadata": {
    "colab": {},
    "colab_type": "code",
    "id": "2Y5IWqcRbviU"
   },
   "outputs": [],
   "source": [
    "def fitness(self, specimen):\n",
    "  return sum(1 for expected, actual in zip(self.HELLO_WORLD, specimen) if expected == actual) / len(self.HELLO_WORLD)\n",
    "\n",
    "def is_converged(self):\n",
    "  if any(self.fitness(specimen) >= self.params[\"fit_threshold\"] for specimen in self.specimen):\n",
    "    return True\n",
    "\n",
    "  return False"
   ]
  },
  {
   "cell_type": "markdown",
   "metadata": {
    "colab_type": "text",
    "id": "Gz7z22CvfRgT"
   },
   "source": [
    "Now that that has been defined, it's time to define the function **fitness_all** that will generate all specimen evaluations."
   ]
  },
  {
   "cell_type": "code",
   "execution_count": 0,
   "metadata": {
    "colab": {},
    "colab_type": "code",
    "id": "1dVAqclRfgoD"
   },
   "outputs": [],
   "source": [
    "def fitness_all(self):\n",
    "  return list(map(self.fitness, self.specimen))"
   ]
  },
  {
   "cell_type": "markdown",
   "metadata": {
    "colab_type": "text",
    "id": "1uA1SoEQfvLx"
   },
   "source": [
    "We will implement the **select_specimen** function to select the top x% of specimen as given by the input parameter."
   ]
  },
  {
   "cell_type": "code",
   "execution_count": 0,
   "metadata": {
    "colab": {},
    "colab_type": "code",
    "id": "GR_bkuayf-JS"
   },
   "outputs": [],
   "source": [
    "import math\n",
    "\n",
    "def select_specimen(self, specimen_evaluations):\n",
    "  specimen_and_evaluations = list(zip(self.specimen, specimen_evaluations))-> [(['udvud'], 0.1), (['udvud'], 0.1)]\n",
    "\n",
    "  specimen_and_evaluations.sort(key=lambda e: e[1], reverse = True)\n",
    "\n",
    "  n_top = int(math.ceil(len(self.specimen) * self.params[\"select_top\"]))\n",
    "\n",
    "  return list(map(lambda s: s[0], specimen_and_evaluations[:n_top]))"
   ]
  },
  {
   "cell_type": "markdown",
   "metadata": {
    "colab_type": "text",
    "id": "g9fjHCFmiaOX"
   },
   "source": [
    "Now the only missing functions are **generate children** and **get_fit**, the first will take the selected specimen and complete a generation by mutating the specimen given a parameter describing what % of digits should be mutated."
   ]
  },
  {
   "cell_type": "code",
   "execution_count": 0,
   "metadata": {
    "colab": {},
    "colab_type": "code",
    "id": "wxZHbKp0i-Jb"
   },
   "outputs": [],
   "source": [
    "import math\n",
    "import random\n",
    "\n",
    "def mutate(self, specimen):\n",
    "  n_idx = int(self.params[\"mutation_percentage\"] * (len(specimen) - 1))\n",
    "\n",
    "  digit_indexes = random.sample(list(range(len(specimen))), n_idx)\n",
    "\n",
    "  mutated = specimen[:]\n",
    "  \n",
    "  for idx in digit_indexes:\n",
    "    mutated[idx] = random.choice(self.ALL_CHARACTERS)\n",
    "\n",
    "  return mutated\n",
    "\n",
    "def generate_children(self, selected_specimen):  \n",
    "  mutated_specimen = [None] * len(self.specimen)\n",
    "  \n",
    "  for i in range(len(mutated_specimen)):\n",
    "    mutated_specimen[i] = self.mutate(random.choice(selected_specimen))\n",
    "  \n",
    "  return mutated_specimen"
   ]
  },
  {
   "cell_type": "markdown",
   "metadata": {
    "colab_type": "text",
    "id": "-kQjzts5m5dZ"
   },
   "source": [
    "And now, the final function **get_fit** will just get the specimen with the highest fitness score."
   ]
  },
  {
   "cell_type": "code",
   "execution_count": 0,
   "metadata": {
    "colab": {},
    "colab_type": "code",
    "id": "si4Wm3ZMnLxI"
   },
   "outputs": [],
   "source": [
    "def get_fit(self):\n",
    "    evaluations = self.fitness_all()\n",
    "\n",
    "    max_evaluation = max(evaluations)\n",
    "\n",
    "    max_index = evaluations.index(max_evaluation)\n",
    "\n",
    "    return self.specimen[max_index], max_evaluation"
   ]
  },
  {
   "cell_type": "markdown",
   "metadata": {
    "colab_type": "text",
    "id": "QxoWEhUvoCmf"
   },
   "source": [
    "Putting it all together:"
   ]
  },
  {
   "cell_type": "code",
   "execution_count": 5,
   "metadata": {
    "colab": {},
    "colab_type": "code",
    "id": "vbi7VBtCoEka"
   },
   "outputs": [],
   "source": [
    "import random\n",
    "import math\n",
    "\n",
    "class HelloGenetic:\n",
    "  def __init__(self, params):\n",
    "    self.ALL_CHARACTERS = list(\"qwertyuiopasdfghjklñzxcvbnmQWERTYUIOPASDFGHJKLÑZXCVBNM. ,!¡\")\n",
    "    self.HELLO_WORLD = list(\"Hello, world!\")\n",
    "    self.params = params\n",
    "    self.specimen = [None] * self.params[\"generation_size\"]\n",
    "\n",
    "    self.create_initial_population()\n",
    "\n",
    "  def create_initial_population(self):\n",
    "    self.specimen = list(map(lambda _: random.sample(self.ALL_CHARACTERS, len(self.HELLO_WORLD)), self.specimen))\n",
    "\n",
    "  def fitness(self, specimen):\n",
    "    return sum(1 for expected, actual in zip(self.HELLO_WORLD, specimen) if expected == actual) / len(self.HELLO_WORLD)\n",
    "\n",
    "  def is_converged(self):\n",
    "    if any(self.fitness(specimen) >= self.params[\"fit_threshold\"] for specimen in self.specimen):\n",
    "      return True\n",
    "\n",
    "    return False\n",
    "\n",
    "  def get_fit(self):\n",
    "    evaluations = self.fitness_all()\n",
    "\n",
    "    max_evaluation = max(evaluations)\n",
    "\n",
    "    max_index = evaluations.index(max_evaluation)\n",
    "\n",
    "    return self.specimen[max_index], max_evaluation\n",
    "\n",
    "  def fitness_all(self):\n",
    "    return list(map(self.fitness, self.specimen))\n",
    "\n",
    "  def select_specimen(self, specimen_evaluations):\n",
    "    specimen_and_evaluations = list(zip(self.specimen, specimen_evaluations))\n",
    "\n",
    "    specimen_and_evaluations.sort(key=lambda e: e[1], reverse = True)\n",
    "\n",
    "    n_top = int(math.ceil(len(self.specimen) * params[\"select_top\"]))\n",
    "\n",
    "    return list(map(lambda s: s[0], specimen_and_evaluations[:n_top]))\n",
    "  \n",
    "  def mutate(self, specimen):\n",
    "    n_digits = int(params[\"mutation_percentage\"] * (len(specimen) - 1))\n",
    "\n",
    "    digit_indexes = random.sample(list(range(len(specimen))), n_digits)\n",
    "\n",
    "    mutated = specimen[:]\n",
    "\n",
    "    for idx in digit_indexes:\n",
    "      mutated[idx] = random.choice(self.ALL_CHARACTERS)\n",
    "\n",
    "    return mutated\n",
    "\n",
    "  def generate_children(self, selected_specimen):  \n",
    "    mutated_specimen = [None] * len(self.specimen)\n",
    "\n",
    "    for i in range(len(mutated_specimen)):\n",
    "      mutated_specimen[i] = self.mutate(random.choice(selected_specimen))\n",
    "\n",
    "    return mutated_specimen\n",
    "\n",
    "  def run(self):\n",
    "    generation_number = 1\n",
    "\n",
    "    while generation_number <= self.params[\"max_generations\"] and not self.is_converged():\n",
    "      top_generation = self.get_fit()\n",
    "      top_str = \"\".join(top_generation[0])\n",
    "      \n",
    "      print(f\"Generation #{generation_number}:\\t{top_str}\\t{top_generation[1]}\")\n",
    "\n",
    "      specimen_evaluations = self.fitness_all()\n",
    "      selected_specimen = self.select_specimen(specimen_evaluations)\n",
    "      \n",
    "      self.specimen = self.generate_children(selected_specimen)\n",
    "      \n",
    "      generation_number += 1\n",
    "    \n",
    "    return self.get_fit()"
   ]
  },
  {
   "cell_type": "markdown",
   "metadata": {
    "colab_type": "text",
    "id": "UCfnZTFCpRz5"
   },
   "source": [
    "Now we try it out!"
   ]
  },
  {
   "cell_type": "code",
   "execution_count": 27,
   "metadata": {
    "colab": {
     "base_uri": "https://localhost:8080/",
     "height": 1000
    },
    "colab_type": "code",
    "id": "fLstX6JJpTvU",
    "outputId": "ca801ba8-4870-4d5d-97ae-430bcb9a51ff",
    "tags": [
     "outputPrepend",
     "outputPrepend",
     "outputPrepend",
     "outputPrepend",
     "outputPrepend",
     "outputPrepend",
     "outputPrepend",
     "outputPrepend",
     "outputPrepend",
     "outputPrepend"
    ]
   },
   "outputs": [
    {
     "name": "stdout",
     "output_type": "stream",
     "text": [
      "Generation #1:\tSXlZip JnrÑdc\t0.3076923076923077\n",
      "Generation #2:\tSXlZip Jnrldc\t0.38461538461538464\n",
      "Generation #3:\tSXlZkp Jnrldc\t0.38461538461538464\n",
      "Generation #4:\tSXlZop Jnrldc\t0.46153846153846156\n",
      "Generation #5:\tHXlZiT JnrldW\t0.46153846153846156\n",
      "Generation #6:\tSXlZop Jorldc\t0.5384615384615384\n",
      "Generation #7:\tS!lZo, Jorldc\t0.6153846153846154\n",
      "Generation #8:\tHelli, JarÑdP\t0.6153846153846154\n",
      "Generation #9:\tH!lwop wnrld!\t0.6923076923076923\n",
      "Generation #10:\tHXllo, wnrld.\t0.7692307692307693\n",
      "Generation #11:\tHXllo, wnrld.\t0.7692307692307693\n",
      "Generation #12:\tSello, Jorld!\t0.8461538461538461\n",
      "Generation #13:\tHelZo,  orld!\t0.8461538461538461\n",
      "Generation #14:\tHello, worldw\t0.9230769230769231\n",
      "Generation #15:\tHello, worldX\t0.9230769230769231\n",
      "Generation #16:\tHello, worldB\t0.9230769230769231\n",
      "Hello, world! 1.0\n"
     ]
    }
   ],
   "source": [
    "params = {\n",
    "    \"mutation_percentage\": 0.1,\n",
    "    \"select_top\": 0.05,\n",
    "    \"generation_size\": 20,\n",
    "    \"fit_threshold\": 1,\n",
    "    \"max_generations\": 1000\n",
    "}\n",
    "\n",
    "hello = HelloGenetic(params)\n",
    "fit  = hello.run()\n",
    "\n",
    "print(\"\".join(fit[0]), fit[1])"
   ]
  },
  {
   "cell_type": "code",
   "execution_count": null,
   "metadata": {},
   "outputs": [],
   "source": []
  }
 ],
 "metadata": {
  "colab": {
   "collapsed_sections": [],
   "name": "genetic-algorithms.ipynb",
   "provenance": []
  },
  "kernelspec": {
   "display_name": "Python 3",
   "language": "python",
   "name": "python3"
  },
  "language_info": {
   "codemirror_mode": {
    "name": "ipython",
    "version": 3
   },
   "file_extension": ".py",
   "mimetype": "text/x-python",
   "name": "python",
   "nbconvert_exporter": "python",
   "pygments_lexer": "ipython3",
   "version": "3.7.3"
  }
 },
 "nbformat": 4,
 "nbformat_minor": 1
}
