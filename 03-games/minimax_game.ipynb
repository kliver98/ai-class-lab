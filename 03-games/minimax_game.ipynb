{
 "cells": [
  {
   "cell_type": "code",
   "execution_count": 496,
   "metadata": {
    "id": "q0khqMXQu0-D"
   },
   "outputs": [],
   "source": [
    "import functools\n",
    "import math"
   ]
  },
  {
   "cell_type": "code",
   "execution_count": 497,
   "metadata": {
    "colab": {
     "base_uri": "https://localhost:8080/",
     "height": 34
    },
    "id": "BkEy6Fopu0-H",
    "outputId": "e97daf27-4244-4c2a-ba25-a5a944d54c92"
   },
   "outputs": [],
   "source": [
    "def removeLetters(boxes):\n",
    "    rst = []\n",
    "    n = int(math.pow(len(boxes),1/2))\n",
    "    for i,box in enumerate(boxes):\n",
    "      a = int(box[0][1]) # Solamente existe Z9 2 valores, A,B,C..Z y 1,2...9\n",
    "      b = box[1]\n",
    "      if a!=1:\n",
    "        b = b.replace('B','')\n",
    "      if (i+1)>len(boxes)-n:\n",
    "        for lt in b:\n",
    "            rst.append(f'{boxes[i][0]} {lt}')\n",
    "        continue\n",
    "      b = b.replace('R','')\n",
    "      for lt in b:\n",
    "            rst.append(f'{boxes[i][0]} {lt}')\n",
    "\n",
    "    return rst\n",
    "\n",
    "def flatten_boxes(boxes):\n",
    "    return removeLetters(boxes)\n",
    "\n",
    "    #return functools.reduce(\n",
    "        #lambda m, box: m + list(map(lambda side: f'{box[0]} {side}',list(box[1])))\n",
    "    #, boxes, [])\n",
    "#flatten_boxes([('A1', 'LTRB'), ('A2', 'LTRB'), ('B1', 'LTRB'), ('B2', 'LTRB')])"
   ]
  },
  {
   "cell_type": "code",
   "execution_count": 498,
   "metadata": {
    "id": "XmWRCEEQu0-J"
   },
   "outputs": [],
   "source": [
    "def remove_move(boxes, move):\n",
    "    move_box, move_side = move.split(' ')\n",
    "    clone = boxes[:]\n",
    "\n",
    "    for i, box in enumerate(clone):\n",
    "        if box[0] == move_box:\n",
    "            new_sides = box[1].replace(move_side, '')\n",
    "            clone[i] = (box[0], new_sides) if new_sides != '' else None\n",
    "            break\n",
    "\n",
    "    nonone = list(filter(lambda b: not (b is None), clone))\n",
    "\n",
    "    return nonone"
   ]
  },
  {
   "cell_type": "code",
   "execution_count": 499,
   "metadata": {
    "id": "pMMGgZEuu0-N"
   },
   "outputs": [],
   "source": [
    "def is_candidate_closed_by(box, move):\n",
    "    move_box, move_side = move.split(' ')\n",
    "\n",
    "    opposites = {\n",
    "        'T': 'B',\n",
    "        'B': 'T',\n",
    "        'L': 'R',\n",
    "        'R': 'L'\n",
    "    }\n",
    "\n",
    "    if box[0] == move_box and box[1] == move_side: # closes box\n",
    "        return True\n",
    "    if box[0] != move_box and box[1] == opposites[move_side] and move_box[0] == box[0][0]: # closes same cloumn\n",
    "        return True\n",
    "    elif box[0] != move_box and box[1] == opposites[move_side] and move_box[1] == box[0][1]: # closes same row\n",
    "        return True\n",
    "\n",
    "    return False"
   ]
  },
  {
   "cell_type": "code",
   "execution_count": 500,
   "metadata": {
    "id": "PPadWA6Gu0-Q"
   },
   "outputs": [],
   "source": [
    "def closed_boxes(boxes, move):\n",
    "    candidates = list(filter(lambda b: len(b[1]) == 1, boxes))\n",
    "    closed = list(filter(lambda b: is_candidate_closed_by(b, move), candidates))\n",
    "\n",
    "    return len(closed)"
   ]
  },
  {
   "cell_type": "code",
   "execution_count": 501,
   "metadata": {
    "id": "A2rIU7NKu0-S"
   },
   "outputs": [],
   "source": [
    "# boxes [('A1', 'LTRB'), ('A2', 'LTRB'), ('B1', 'LTRB'), ('B2', 'LTRB')] - primera optimizacion, eliminar jugadas repetidas\n",
    "def minimax(boxes, max_turn, max_score, min_score,counter):\n",
    "    #print(boxes,max_turn,max_score,min_score)\n",
    "    if counter == 2: # segunda optimizacion, cortar en profundidad y evaluar\n",
    "        return max_score - min_score\n",
    "\n",
    "    if max_turn:\n",
    "        max_eval = -1000\n",
    "        children =  flatten_boxes(boxes)\n",
    "        for move in children:\n",
    "            #print(\">\",children)\n",
    "            new_moves = remove_move(boxes, move)\n",
    "            new_max_score = max_score + closed_boxes(boxes, move) # tercera optimizacion, usar numero de cajas cerradas para ordenar movimientos\n",
    "            rating = minimax(new_moves, not max_turn, new_max_score, min_score,counter+1)\n",
    "            max_eval = max(rating, max_eval) # cuarta optimizacion, usar poda alfa-beta\n",
    "            \n",
    "        return max_eval\n",
    "    else:\n",
    "        min_eval = 1000\n",
    "        children =  flatten_boxes(boxes)\n",
    "        for move in children:\n",
    "            #print(\"<\",children)\n",
    "            new_moves = remove_move(boxes, move)\n",
    "            new_min_score = min_score + closed_boxes(boxes, move)\n",
    "            rating = minimax(new_moves, not max_turn, max_score, new_min_score,counter+1)\n",
    "            min_eval = min(rating, min_eval)\n",
    "        return min_eval\n"
   ]
  },
  {
   "cell_type": "code",
   "execution_count": 555,
   "metadata": {
    "colab": {
     "base_uri": "https://localhost:8080/",
     "height": 34
    },
    "id": "9gntlTAq4o7K",
    "outputId": "43d2dae5-e675-4a94-abdb-2d009107d7b4"
   },
   "outputs": [
    {
     "name": "stdout",
     "output_type": "stream",
     "text": [
      "3.005\n"
     ]
    }
   ],
   "source": [
    "import datetime\n",
    "\n",
    "start = datetime.datetime.now()\n",
    "\n",
    "minimax([('A1', 'LTRB'), ('A2', 'LTRB'), ('B1', 'LTRB'), ('B2', 'LTRB')], True, 0, 0, 0)\n",
    "\n",
    "end = datetime.datetime.now()\n",
    "\n",
    "print((end-start).total_seconds()*1000)"
   ]
  }
 ],
 "metadata": {
  "colab": {
   "name": "Copia de minimax_game.ipynb",
   "provenance": []
  },
  "kernelspec": {
   "display_name": "Python 3",
   "language": "python",
   "name": "python3"
  },
  "language_info": {
   "codemirror_mode": {
    "name": "ipython",
    "version": 3
   },
   "file_extension": ".py",
   "mimetype": "text/x-python",
   "name": "python",
   "nbconvert_exporter": "python",
   "pygments_lexer": "ipython3",
   "version": "3.7.3"
  }
 },
 "nbformat": 4,
 "nbformat_minor": 1
}
