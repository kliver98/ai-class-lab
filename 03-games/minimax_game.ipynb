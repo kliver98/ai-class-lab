{
  "nbformat": 4,
  "nbformat_minor": 0,
  "metadata": {
    "language_info": {
      "codemirror_mode": {
        "name": "ipython",
        "version": 3
      },
      "file_extension": ".py",
      "mimetype": "text/x-python",
      "name": "python",
      "nbconvert_exporter": "python",
      "pygments_lexer": "ipython3",
      "version": "3.7.6-final"
    },
    "orig_nbformat": 2,
    "kernelspec": {
      "name": "Python 3.7.6 64-bit ('lab-ia': conda)",
      "display_name": "Python 3.7.6 64-bit ('lab-ia': conda)",
      "metadata": {
        "interpreter": {
          "hash": "a3f4397c5ba2ad3b4d016399a41af747e2f580a93f6fd834f7de2c957ebf4eda"
        }
      }
    },
    "colab": {
      "name": "Copia de minimax_game.ipynb",
      "provenance": []
    }
  },
  "cells": [
    {
      "cell_type": "code",
      "metadata": {
        "id": "q0khqMXQu0-D"
      },
      "source": [
        "import functools\n",
        "import math"
      ],
      "execution_count": null,
      "outputs": []
    },
    {
      "cell_type": "code",
      "metadata": {
        "id": "BkEy6Fopu0-H",
        "outputId": "e97daf27-4244-4c2a-ba25-a5a944d54c92",
        "colab": {
          "base_uri": "https://localhost:8080/",
          "height": 34
        }
      },
      "source": [
        "def removeLetters(boxes):\n",
        "    n = int(math.pow(len(boxes),1/2))\n",
        "    for i,box in enumerate(boxes):\n",
        "      a = int(box[0][1]) # Solamente existe Z9 2 valores, A,B,C..Z y 1,2...9\n",
        "      b = box[1]\n",
        "      if a!=1:\n",
        "        b = b.replace('B','')\n",
        "      if (i+1)>len(boxes)-n:\n",
        "        continue\n",
        "      b = b.replace('R','')\n",
        "      boxes[i]=(boxes[i][0],b)\n",
        "\n",
        "    return boxes\n",
        "\n",
        "def flatten_boxes(boxes):\n",
        "    return removeLetters(boxes)\n",
        "\n",
        "    #return functools.reduce(\n",
        "        #lambda m, box: m + list(map(lambda side: f'{box[0]} {side}',list(box[1])))\n",
        "    #, boxes, [])\n",
        "flatten_boxes([('A1', 'LTRB'), ('A2', 'LTRB'), ('B1', 'LTRB'), ('B2', 'LTRB')])"
      ],
      "execution_count": null,
      "outputs": [
        {
          "output_type": "execute_result",
          "data": {
            "text/plain": [
              "[('A1', 'LTB'), ('A2', 'LT'), ('B1', 'LTRB'), ('B2', 'LTRB')]"
            ]
          },
          "metadata": {
            "tags": []
          },
          "execution_count": 91
        }
      ]
    },
    {
      "cell_type": "code",
      "metadata": {
        "id": "XmWRCEEQu0-J"
      },
      "source": [
        "def remove_move(boxes, move):\n",
        "    move_box, move_side = move\n",
        "    clone = boxes[:]\n",
        "\n",
        "    for i, box in enumerate(clone):\n",
        "        if box[0] == move_box:\n",
        "            new_sides = box[1].replace(move_side, '')\n",
        "            clone[i] = (box[0], new_sides) if new_sides != '' else None\n",
        "            break\n",
        "\n",
        "    nonone = list(filter(lambda b: not (b is None), clone))\n",
        "\n",
        "    return nonone"
      ],
      "execution_count": null,
      "outputs": []
    },
    {
      "cell_type": "code",
      "metadata": {
        "id": "pMMGgZEuu0-N"
      },
      "source": [
        "def is_candidate_closed_by(box, move):\n",
        "    move_box, move_side = move.split(' ')\n",
        "\n",
        "    opposites = {\n",
        "        'T': 'B',\n",
        "        'B': 'T',\n",
        "        'L': 'R',\n",
        "        'R': 'L'\n",
        "    }\n",
        "\n",
        "    if box[0] == move_box and box[1] == move_side: # closes box\n",
        "        return True\n",
        "    if box[0] != move_box and box[1] == opposites[move_side] and move_box[0] == box[0][0]: # closes same cloumn\n",
        "        return True\n",
        "    elif box[0] != move_box and box[1] == opposites[move_side] and move_box[1] == box[0][1]: # closes same row\n",
        "        return True\n",
        "\n",
        "    return False"
      ],
      "execution_count": null,
      "outputs": []
    },
    {
      "cell_type": "code",
      "metadata": {
        "id": "PPadWA6Gu0-Q"
      },
      "source": [
        "def closed_boxes(boxes, move):\n",
        "    candidates = list(filter(lambda b: len(b[1]) == 1, boxes))\n",
        "    closed = list(filter(lambda b: is_candidate_closed_by(b, move), candidates))\n",
        "\n",
        "    return len(closed)"
      ],
      "execution_count": null,
      "outputs": []
    },
    {
      "cell_type": "code",
      "metadata": {
        "id": "A2rIU7NKu0-S"
      },
      "source": [
        "# boxes [('A1', 'LTRB'), ('A2', 'LTRB'), ('B1', 'LTRB'), ('B2', 'LTRB')] - primera optimizacion, eliminar jugadas repetidas\n",
        "def minimax(boxes, max_turn, max_score, min_score):\n",
        "    if len(boxes) == 0: # segunda optimizacion, cortar en profundidad y evaluar\n",
        "        return max_score - min_score\n",
        "\n",
        "    if max_turn:\n",
        "        max_eval = -1000\n",
        "        children =  flatten_boxes(boxes)\n",
        "        for move in children:\n",
        "            new_moves = remove_move(boxes, move)\n",
        "            new_max_score = max_score + closed_boxes(boxes, move) # tercera optimizacion, usar numero de cajas cerradas para ordenar movimientos\n",
        "            rating = minimax(new_moves, not max_turn, new_max_score, min_score)\n",
        "            max_eval = max(rating, max_eval) # cuarta optimizacion, usar poda alfa-beta\n",
        "        return max_eval\n",
        "    else:\n",
        "        min_eval = 1000\n",
        "        children =  flatten_boxes(boxes)\n",
        "        for move in children:\n",
        "            new_moves = remove_move(boxes, move)\n",
        "            new_min_score = min_score + closed_boxes(boxes, move)\n",
        "            rating = minimax(new_moves, not max_turn, max_score, new_min_score)\n",
        "            min_eval = min(rating, min_eval)\n",
        "        return min_eval\n"
      ],
      "execution_count": null,
      "outputs": []
    },
    {
      "cell_type": "code",
      "metadata": {
        "id": "9gntlTAq4o7K",
        "outputId": "43d2dae5-e675-4a94-abdb-2d009107d7b4",
        "colab": {
          "base_uri": "https://localhost:8080/",
          "height": 34
        }
      },
      "source": [
        "import datetime\n",
        "\n",
        "start = datetime.datetime.now()\n",
        "\n",
        "minimax([('A1', 'LTRB'), ('A2', 'LTRB')], True, 0, 0)\n",
        "\n",
        "end = datetime.datetime.now()\n",
        "\n",
        "print((end-start).total_seconds()*1000)"
      ],
      "execution_count": null,
      "outputs": [
        {
          "output_type": "stream",
          "text": [
            "0.10900000000000001\n"
          ],
          "name": "stdout"
        }
      ]
    },
    {
      "cell_type": "code",
      "metadata": {
        "id": "uT9R5tGhu0-V"
      },
      "source": [
        ""
      ],
      "execution_count": null,
      "outputs": []
    }
  ]
}