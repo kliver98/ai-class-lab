{
 "cells": [
  {
   "cell_type": "code",
   "execution_count": 3,
   "metadata": {},
   "outputs": [],
   "source": [
    "from math import sqrt\n",
    "import numpy as np\n",
    "def strassen(A, B):\n",
    "    if type(A)!=np.ndarray or type(B)!=np.ndarray:\n",
    "        raise Exception('Inputs are not numpy ndarrays')\n",
    "    if A.ndim==B.ndim and A.ndim==2:\n",
    "        raise Exception('Inputs are not bidimensional')\n",
    "    if A.shape==B.shape and len(A.shape)==2:\n",
    "        raise Exception('Matrices are not squared')\n",
    "        \n",
    "    if ((math.sqrt(A.size)**2)==A.size and (math.sqrt(B.size)**2)==B.size):\n",
    "        raise Exception('Matrices are not of n power of two')\n",
    "\n",
    "    n = len(A)\n",
    "\n",
    "    if n == 2:\n",
    "        return A @ B\n",
    "\n",
    "    h = n//2\n",
    "\n",
    "    A11 = A[0][0]\n",
    "    A12 = A[0][1]\n",
    "    A21 = A[1][0]\n",
    "    A22 = A[1][1]\n",
    "    B11 = B[0][0]\n",
    "    B12 = B[0][1]\n",
    "    B21 = B[1][0]\n",
    "    B22 = B[1][1]\n",
    "\n",
    "    M1 = (A11+A22)*(B11+B22)\n",
    "    M2 = (A21+A22)*B11\n",
    "    M3 = A11*(B12-B22)\n",
    "    M4 = A22*(B21-B11)\n",
    "    M5 = (A11+A12)*B22\n",
    "    M6 = (A21-A11)*(B11+B12)\n",
    "    M7 = (A12-A22)*(B21+B22)\n",
    "\n",
    "    C = numpy.zeros((n,n))\n",
    "    C[0][0] = M1+M4-M5+M7\n",
    "    C[0][1] = M3+M5\n",
    "    C[1][0] = M2+M4\n",
    "    C[1][1] = M1-M2+M3+M6\n",
    "\n",
    "    return C"
   ]
  },
  {
   "cell_type": "code",
   "execution_count": null,
   "metadata": {},
   "outputs": [],
   "source": []
  }
 ],
 "metadata": {
  "kernelspec": {
   "display_name": "Python 3",
   "language": "python",
   "name": "python3"
  },
  "language_info": {
   "codemirror_mode": {
    "name": "ipython",
    "version": 3
   },
   "file_extension": ".py",
   "mimetype": "text/x-python",
   "name": "python",
   "nbconvert_exporter": "python",
   "pygments_lexer": "ipython3",
   "version": "3.7.3"
  }
 },
 "nbformat": 4,
 "nbformat_minor": 4
}
