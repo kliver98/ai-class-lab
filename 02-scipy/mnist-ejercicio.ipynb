{
 "cells": [
  {
   "cell_type": "code",
   "execution_count": 244,
   "metadata": {},
   "outputs": [],
   "source": [
    "from sklearn.datasets import load_digits\n",
    "import random\n",
    "import numpy as np\n",
    "import matplotlib.pyplot as plt\n",
    "digits, target = load_digits(return_X_y=True)"
   ]
  },
  {
   "cell_type": "code",
   "execution_count": 245,
   "metadata": {},
   "outputs": [],
   "source": [
    "def generate_random_indices(percentage, classes):\n",
    "    indices_of_classes = [np.nonzero(target == x)[0] for x in classes]\n",
    "\n",
    "    min_length = min(len(indices_of_class) for indices_of_class in indices_of_classes) - 1\n",
    "\n",
    "    indices_of_class = np.concatenate( [indices_of_class[:min_length] for indices_of_class in indices_of_classes] )\n",
    "\n",
    "    return random.sample(indices_of_class.tolist(),k=int(len(indices_of_class)*percentage))\n",
    "\n",
    "def get_random_data(classes):\n",
    "    indices = generate_random_indices(0.3,classes)\n",
    "    return digits[indices,:], target[indices]\n",
    "\n",
    "digits_sample, target_sample = get_random_data([1,0])\n"
   ]
  },
  {
   "cell_type": "code",
   "execution_count": 246,
   "metadata": {},
   "outputs": [],
   "source": [
    "values_mapped = {}\n",
    "def map_values():\n",
    "    i=0\n",
    "    for arr in digits_sample:\n",
    "        l=values_mapped.get(target_sample[i],[])\n",
    "        l.append(int(sum(arr)))\n",
    "        values_mapped[int(target_sample[i])] = l\n",
    "        i+=1\n",
    "def find_key(val):\n",
    "    found = [k for k,v in values_mapped.items() if val in v]\n",
    "    if len(found)>1:\n",
    "        print(found,val)\n",
    "    return found[0] #this could be better by decisions\n",
    "def predict(digs):\n",
    "    values_mapped = {}\n",
    "    if len(values_mapped)==0:\n",
    "        map_values()\n",
    "    return [find_key(sum(i.tolist())) for i in digs]\n",
    "\n",
    "def accuracy(predictions):\n",
    "    return np.count_nonzero(target_sample == predictions)/len(target_sample)"
   ]
  },
  {
   "cell_type": "code",
   "execution_count": 247,
   "metadata": {},
   "outputs": [
    {
     "name": "stdout",
     "output_type": "stream",
     "text": [
      "[1, 0] 335.0\n",
      "[1, 0] 324.0\n",
      "[1, 0] 312.0\n",
      "[1, 0] 364.0\n",
      "[1, 0] 364.0\n",
      "[1, 0] 296.0\n",
      "[1, 0] 311.0\n",
      "[1, 0] 311.0\n",
      "[1, 0] 329.0\n",
      "[1, 0] 335.0\n",
      "[1, 0] 296.0\n",
      "[1, 0] 329.0\n",
      "[1, 0] 306.0\n",
      "[1, 0] 292.0\n",
      "[1, 0] 296.0\n",
      "[1, 0] 268.0\n",
      "[1, 0] 292.0\n",
      "[1, 0] 306.0\n",
      "[1, 0] 312.0\n",
      "[1, 0] 306.0\n",
      "[1, 0] 268.0\n",
      "[1, 0] 364.0\n",
      "[1, 0] 311.0\n",
      "[1, 0] 324.0\n",
      "[1, 0] 268.0\n",
      "[1, 0] 268.0\n"
     ]
    },
    {
     "data": {
      "text/plain": [
       "0.8773584905660378"
      ]
     },
     "execution_count": 247,
     "metadata": {},
     "output_type": "execute_result"
    }
   ],
   "source": [
    "l = predict(digits_sample)\n",
    "#print(l,len(l))\n",
    "#print(target_sample,len(target_sample))\n",
    "accuracy(l)"
   ]
  }
 ],
 "metadata": {
  "kernelspec": {
   "display_name": "Python 3",
   "language": "python",
   "name": "python3"
  },
  "language_info": {
   "codemirror_mode": {
    "name": "ipython",
    "version": 3
   },
   "file_extension": ".py",
   "mimetype": "text/x-python",
   "name": "python",
   "nbconvert_exporter": "python",
   "pygments_lexer": "ipython3",
   "version": "3.7.3"
  }
 },
 "nbformat": 4,
 "nbformat_minor": 4
}
